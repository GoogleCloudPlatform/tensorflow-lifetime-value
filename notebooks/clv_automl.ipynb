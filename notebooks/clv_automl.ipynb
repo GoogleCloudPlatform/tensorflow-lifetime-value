{
 "cells": [
  {
   "cell_type": "code",
   "execution_count": 1,
   "metadata": {},
   "outputs": [],
   "source": [
    "from google.cloud import automl_v1beta1\n",
    "import os\n",
    "import time"
   ]
  },
  {
   "cell_type": "markdown",
   "metadata": {},
   "source": [
    "## Initialize environment variables"
   ]
  },
  {
   "cell_type": "code",
   "execution_count": 41,
   "metadata": {},
   "outputs": [],
   "source": [
    "project_id   = 'tensorflow-clv-331422'\n",
    "location     = 'us-central1'\n",
    "keyfile_name = 'mykey.json'\n",
    "\n",
    "dataset_display_name = 'ltv'\n",
    "dataset_table_name   = 'features_n_target'\n",
    "model_display_name   = 'clv_model_test1'\n",
    "\n",
    "gcs_input_uri         = \"gs://tensorflow-clv-331422_data_final/predictions/to_predict.csv\"\n",
    "gcs_output_uri_prefix = \"gs://tensorflow-clv-331422_data_final/predictions\""
   ]
  },
  {
   "cell_type": "markdown",
   "metadata": {},
   "source": [
    "## Create and authenticate clients "
   ]
  },
  {
   "cell_type": "code",
   "execution_count": 24,
   "metadata": {},
   "outputs": [],
   "source": [
    "client = automl_v1beta1.AutoMlClient.from_service_account_file(keyfile_name)\n",
    "prediction_client = automl_v1beta1.PredictionServiceClient.from_service_account_file(keyfile_name)"
   ]
  },
  {
   "cell_type": "code",
   "execution_count": 4,
   "metadata": {},
   "outputs": [
    {
     "data": {
      "text/plain": [
       "u'projects/tensorflow-clv-331422/locations/us-central1'"
      ]
     },
     "execution_count": 4,
     "metadata": {},
     "output_type": "execute_result"
    }
   ],
   "source": [
    "location_path = client.location_path(project_id, location)\n",
    "location_path"
   ]
  },
  {
   "cell_type": "markdown",
   "metadata": {},
   "source": [
    "## Create AutoML Dataset"
   ]
  },
  {
   "cell_type": "code",
   "execution_count": 5,
   "metadata": {},
   "outputs": [
    {
     "data": {
      "text/plain": [
       "u'projects/367596130023/locations/us-central1/datasets/TBL617851317775237120'"
      ]
     },
     "execution_count": 5,
     "metadata": {},
     "output_type": "execute_result"
    }
   ],
   "source": [
    "create_dataset_response = client.create_dataset(\n",
    "  location_path,\n",
    "  {'display_name': dataset_display_name, 'tables_dataset_metadata': {}})\n",
    "dataset_name = create_dataset_response.name\n",
    "dataset_name"
   ]
  },
  {
   "cell_type": "markdown",
   "metadata": {},
   "source": [
    "## ... or alternatively, use an existing Dataset"
   ]
  },
  {
   "cell_type": "code",
   "execution_count": 6,
   "metadata": {},
   "outputs": [
    {
     "data": {
      "text/plain": [
       "u'projects/367596130023/locations/us-central1/datasets/TBL617851317775237120'"
      ]
     },
     "execution_count": 6,
     "metadata": {},
     "output_type": "execute_result"
    }
   ],
   "source": [
    "dataset_list_response = client.list_datasets(location_path)\n",
    "dataset_list = [d for d in dataset_list_response]\n",
    "dataset = [d for d in dataset_list if d.display_name == dataset_display_name][0]\n",
    "dataset_name = dataset.name\n",
    "dataset_name"
   ]
  },
  {
   "cell_type": "markdown",
   "metadata": {},
   "source": [
    "## Import data from BigQuery"
   ]
  },
  {
   "cell_type": "code",
   "execution_count": 42,
   "metadata": {},
   "outputs": [
    {
     "data": {
      "text/plain": [
       "'bq://tensorflow-clv-331422.ltv.features_n_target'"
      ]
     },
     "execution_count": 42,
     "metadata": {},
     "output_type": "execute_result"
    }
   ],
   "source": [
    "dataset_bq_input_uri = 'bq://{}.{}.{}'.format(project_id, dataset_display_name, dataset_table_name)\n",
    "dataset_bq_input_uri"
   ]
  },
  {
   "cell_type": "code",
   "execution_count": 8,
   "metadata": {},
   "outputs": [],
   "source": [
    "input_config = {\n",
    "  'bigquery_source': {\n",
    "      'input_uri': dataset_bq_input_uri}}\n",
    "import_data_response = client.import_data(dataset_name, input_config)"
   ]
  },
  {
   "cell_type": "code",
   "execution_count": 9,
   "metadata": {},
   "outputs": [],
   "source": [
    "while import_data_response.done() is False:\n",
    "    time.sleep(1)"
   ]
  },
  {
   "cell_type": "markdown",
   "metadata": {},
   "source": [
    "## Get column specs for Dataset"
   ]
  },
  {
   "cell_type": "code",
   "execution_count": 10,
   "metadata": {},
   "outputs": [],
   "source": [
    "list_table_specs_response = client.list_table_specs(dataset_name)\n",
    "table_specs = [s for s in list_table_specs_response]\n",
    "table_spec_name = table_specs[0].name\n",
    "list_column_specs_response = client.list_column_specs(table_spec_name)\n",
    "column_specs = {s.display_name: s for s in list_column_specs_response}"
   ]
  },
  {
   "cell_type": "markdown",
   "metadata": {},
   "source": [
    "### Example of updating column spec..."
   ]
  },
  {
   "cell_type": "code",
   "execution_count": 11,
   "metadata": {},
   "outputs": [],
   "source": [
    "update_column_spec_dict = {\n",
    "  \"name\": column_specs['has_returned'].name,\n",
    "  \"data_type\": {\n",
    "      \"type_code\": \"CATEGORY\"\n",
    "  }\n",
    "}\n",
    "update_column_response = client.update_column_spec(update_column_spec_dict)"
   ]
  },
  {
   "cell_type": "markdown",
   "metadata": {},
   "source": [
    "## Assign a training label"
   ]
  },
  {
   "cell_type": "code",
   "execution_count": 13,
   "metadata": {},
   "outputs": [
    {
     "name": "stdout",
     "output_type": "stream",
     "text": [
      "Label column ID: 2413939845631049728\n"
     ]
    }
   ],
   "source": [
    "label_column_name = 'target_monetary'\n",
    "label_column_spec = column_specs[label_column_name]\n",
    "label_column_id = label_column_spec.name.rsplit('/', 1)[-1]\n",
    "print('Label column ID: {}'.format(label_column_id))\n",
    "update_dataset_dict = {\n",
    "  'name': dataset_name,\n",
    "  'tables_dataset_metadata': {\n",
    "      'target_column_spec_id': label_column_id\n",
    "  }\n",
    "}\n",
    "update_dataset_response = client.update_dataset(update_dataset_dict)"
   ]
  },
  {
   "cell_type": "markdown",
   "metadata": {},
   "source": [
    "## Select features for training"
   ]
  },
  {
   "cell_type": "code",
   "execution_count": 14,
   "metadata": {},
   "outputs": [],
   "source": [
    "feat_list = list(column_specs.keys())\n",
    "feat_list.remove('target_monetary')\n",
    "feat_list.remove('customer_id')\n",
    "feat_list.remove('monetary_btyd')\n",
    "feat_list.remove('frequency_btyd')\n",
    "feat_list.remove('frequency_btyd_clipped')\n",
    "feat_list.remove('monetary_btyd_clipped')\n",
    "feat_list.remove('target_monetary_clipped')"
   ]
  },
  {
   "cell_type": "code",
   "execution_count": 15,
   "metadata": {},
   "outputs": [
    {
     "data": {
      "text/plain": [
       "[u'frequency_dnn',\n",
       " u'has_returned',\n",
       " u'cnt_returns',\n",
       " u'avg_basket_value',\n",
       " u'avg_basket_size',\n",
       " u'time_between',\n",
       " u'T',\n",
       " u'monetary_dnn',\n",
       " u'recency']"
      ]
     },
     "execution_count": 15,
     "metadata": {},
     "output_type": "execute_result"
    }
   ],
   "source": [
    "feat_list"
   ]
  },
  {
   "cell_type": "markdown",
   "metadata": {},
   "source": [
    "## Train the model"
   ]
  },
  {
   "cell_type": "code",
   "execution_count": 16,
   "metadata": {},
   "outputs": [],
   "source": [
    "model_dict = {\n",
    "  'display_name': model_display_name,\n",
    "  'dataset_id': dataset_name.rsplit('/', 1)[-1],\n",
    "  'tables_model_metadata': {\n",
    "      'target_column_spec': column_specs['target_monetary'],\n",
    "      'input_feature_column_specs': [\n",
    "          column_specs[x] for x in feat_list],\n",
    "      'train_budget_milli_node_hours': 10000,\n",
    "      'optimization_objective': 'MINIMIZE_MAE'\n",
    "  }\n",
    "}"
   ]
  },
  {
   "cell_type": "code",
   "execution_count": 17,
   "metadata": {},
   "outputs": [],
   "source": [
    "create_model_response = client.create_model(location_path, model_dict)\n",
    "while create_model_response.done() is False:\n",
    "    time.sleep(10)"
   ]
  },
  {
   "cell_type": "code",
   "execution_count": 18,
   "metadata": {},
   "outputs": [
    {
     "data": {
      "text/plain": [
       "u'projects/367596130023/locations/us-central1/models/TBL1533279960049909760'"
      ]
     },
     "execution_count": 18,
     "metadata": {},
     "output_type": "execute_result"
    }
   ],
   "source": [
    "create_model_result = create_model_response.result()\n",
    "model_name = create_model_result.name\n",
    "create_model_result.name"
   ]
  },
  {
   "cell_type": "markdown",
   "metadata": {},
   "source": [
    "## ... or alternatively get an existing trained Model "
   ]
  },
  {
   "cell_type": "code",
   "execution_count": null,
   "metadata": {},
   "outputs": [],
   "source": [
    "model_list_response = client.list_models(location_path)\n",
    "model_list = [m for m in model_list_response]\n",
    "model = [m for m in model_list if m.display_name == model_display_name][0]\n",
    "model_name = model.name"
   ]
  },
  {
   "cell_type": "markdown",
   "metadata": {},
   "source": [
    "## Get evalutions for model"
   ]
  },
  {
   "cell_type": "code",
   "execution_count": 19,
   "metadata": {},
   "outputs": [
    {
     "data": {
      "text/plain": [
       "name: \"projects/367596130023/locations/us-central1/models/TBL1533279960049909760/modelEvaluations/8878602014043014095\"\n",
       "create_time {\n",
       "  seconds: 1636342307\n",
       "  nanos: 96292000\n",
       "}\n",
       "evaluated_example_count: 122\n",
       "regression_evaluation_metrics {\n",
       "  root_mean_squared_error: 2023.61425781\n",
       "  mean_absolute_error: 745.727172852\n",
       "  mean_absolute_percentage_error: 22.3629245758\n",
       "  r_squared: 0.84898853302\n",
       "  root_mean_squared_log_error: 0.304995328188\n",
       "}"
      ]
     },
     "execution_count": 19,
     "metadata": {},
     "output_type": "execute_result"
    }
   ],
   "source": [
    "model_evaluations = [e for e in client.list_model_evaluations(model_name)]\n",
    "model_evaluations[0]"
   ]
  },
  {
   "cell_type": "markdown",
   "metadata": {},
   "source": [
    "## Deploy the model"
   ]
  },
  {
   "cell_type": "code",
   "execution_count": 20,
   "metadata": {
    "scrolled": true
   },
   "outputs": [],
   "source": [
    "deploy_model_response = client.deploy_model(model_name)\n",
    "api = client.transport._operations_client\n",
    "while deploy_model_response.done is False:\n",
    "    deploy_model_response = api.get_operation(deploy_model_response.name)\n",
    "    time.sleep(1)"
   ]
  },
  {
   "cell_type": "markdown",
   "metadata": {},
   "source": [
    "## Run batch predictions"
   ]
  },
  {
   "cell_type": "code",
   "execution_count": 39,
   "metadata": {},
   "outputs": [],
   "source": [
    "# Define input source.\n",
    "batch_prediction_input_source = {\n",
    "  'gcs_source': {\n",
    "    'input_uris': [gcs_input_uri]\n",
    "  }\n",
    "}\n",
    "\n",
    "# Define output target.\n",
    "batch_prediction_output_target = {\n",
    "    'gcs_destination': {\n",
    "      'output_uri_prefix': gcs_output_uri_prefix\n",
    "    }\n",
    "}\n",
    "\n",
    "batch_predict_response = prediction_client.batch_predict(\n",
    "  model_name, batch_prediction_input_source, batch_prediction_output_target)\n",
    "\n",
    "while batch_predict_response.done() is False:\n",
    "  time.sleep(1)"
   ]
  }
 ],
 "metadata": {
  "kernelspec": {
   "display_name": "Python 2",
   "language": "python",
   "name": "python2"
  },
  "language_info": {
   "codemirror_mode": {
    "name": "ipython",
    "version": 2
   },
   "file_extension": ".py",
   "mimetype": "text/x-python",
   "name": "python",
   "nbconvert_exporter": "python",
   "pygments_lexer": "ipython2",
   "version": "2.7.18"
  }
 },
 "nbformat": 4,
 "nbformat_minor": 2
}
